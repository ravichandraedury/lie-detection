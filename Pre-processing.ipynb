{
 "cells": [
  {
   "cell_type": "code",
   "execution_count": 1,
   "id": "ec5f5739",
   "metadata": {},
   "outputs": [],
   "source": [
    "import cv2\n",
    "\n",
    "# Open the input video file\n",
    "cap = cv2.VideoCapture('C:/Users/ravic/OneDrive/Desktop/3.mp4')\n",
    "if not cap.isOpened():\n",
    "    print(\"Error opening video file\")\n",
    "\n",
    "# Get the frame rate and number of frames in the video\n",
    "frame_rate = int(cap.get(cv2.CAP_PROP_FPS))\n",
    "num_frames = int(cap.get(cv2.CAP_PROP_FRAME_COUNT))\n",
    "\n",
    "# Set the start and end times for the trimmed video\n",
    "start_time = 10 # in seconds\n",
    "end_time = 20 # in seconds\n",
    "\n",
    "# Calculate the start and end frames based on the start and end times\n",
    "start_frame = int(start_time * frame_rate)\n",
    "end_frame = int(end_time * frame_rate)\n",
    "\n",
    "# Create a new video writer object\n",
    "out = cv2.VideoWriter('C:/Users/ravic/OneDrive/Desktop/3t.mp4', cv2.VideoWriter_fourcc(*'mp4v'), frame_rate, (int(cap.get(3)), int(cap.get(4))))\n",
    "\n",
    "# Set the frame counter to the start frame\n",
    "cap.set(cv2.CAP_PROP_POS_FRAMES, start_frame)\n",
    "\n",
    "# Loop through the frames from the start frame to the end frame and write them to the new video file\n",
    "for i in range(start_frame, end_frame):\n",
    "    ret, frame = cap.read()\n",
    "    if ret:\n",
    "        out.write(frame)\n",
    "    else:\n",
    "        break\n",
    "\n",
    "# Release the video capture and writer objects\n",
    "cap.release()\n",
    "out.release()\n",
    "\n",
    "# Close any open windows\n",
    "cv2.destroyAllWindows()\n"
   ]
  },
  {
   "cell_type": "code",
   "execution_count": 2,
   "id": "76574e8f",
   "metadata": {},
   "outputs": [],
   "source": [
    "import cv2\n",
    "\n",
    "# Open the video file\n",
    "cap = cv2.VideoCapture('C:/Users/ravic/OneDrive/Documents/College material/TRIM 3/AIML/Project/1.mp4')\n",
    "\n",
    "# Loop through each frame of the video\n",
    "while True:\n",
    "    # Read the next frame from the video\n",
    "    ret, frame = cap.read()\n",
    "    \n",
    "    # If there are no more frames, break out of the loop\n",
    "    if not ret:\n",
    "        break\n",
    "    \n",
    "    # Display the current frame\n",
    "    cv2.imshow('Video', frame)\n",
    "    \n",
    "    # Wait for a key press and check if the user wants to quit\n",
    "    if cv2.waitKey(1) & 0xFF == ord('q'):\n",
    "        break\n",
    "\n",
    "# Release the video capture object and close the window\n",
    "cap.release()\n",
    "cv2.destroyAllWindows()\n"
   ]
  },
  {
   "cell_type": "code",
   "execution_count": null,
   "id": "aca7c0c3",
   "metadata": {},
   "outputs": [],
   "source": []
  }
 ],
 "metadata": {
  "kernelspec": {
   "display_name": "Python 3 (ipykernel)",
   "language": "python",
   "name": "python3"
  },
  "language_info": {
   "codemirror_mode": {
    "name": "ipython",
    "version": 3
   },
   "file_extension": ".py",
   "mimetype": "text/x-python",
   "name": "python",
   "nbconvert_exporter": "python",
   "pygments_lexer": "ipython3",
   "version": "3.9.13"
  }
 },
 "nbformat": 4,
 "nbformat_minor": 5
}
