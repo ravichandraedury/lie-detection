{
 "cells": [
  {
   "cell_type": "code",
   "execution_count": 1,
   "id": "18274343",
   "metadata": {},
   "outputs": [],
   "source": [
    "import cv2\n",
    "import uuid"
   ]
  },
  {
   "cell_type": "markdown",
   "id": "79745e50",
   "metadata": {},
   "source": [
    "TRUTH"
   ]
  },
  {
   "cell_type": "code",
   "execution_count": 6,
   "id": "9d7235d9",
   "metadata": {},
   "outputs": [],
   "source": [
    "path = \"C:/Users/ravic/OneDrive/Documents/College material/TRIM 3/AIML/Project/truth3.mp4\"\n",
    "save_path = \"C:/Users/ravic/OneDrive/Documents/College material/TRIM 3/AIML/Project\"\n",
    "video = cv2.VideoCapture(path)\n",
    "count = 0\n",
    "while True:\n",
    "    success, frame = video.read()\n",
    "    if not success:\n",
    "        break\n",
    "    cv2.imwrite(f'{save_path}/truth/frame{uuid.uuid1()}.jpg', frame)\n",
    "    count += 1"
   ]
  },
  {
   "cell_type": "markdown",
   "id": "037e973a",
   "metadata": {},
   "source": [
    "LIE"
   ]
  },
  {
   "cell_type": "code",
   "execution_count": 17,
   "id": "8fffba95",
   "metadata": {},
   "outputs": [],
   "source": [
    "path = \"C:/Users/ravic/OneDrive/Documents/College material/TRIM 3/AIML/Project/lie5.mp4\"\n",
    "save_path = \"C:/Users/ravic/OneDrive/Documents/College material/TRIM 3/AIML/Project\"\n",
    "video = cv2.VideoCapture(path)\n",
    "count = 0\n",
    "while True:\n",
    "    success, frame = video.read()\n",
    "    if not success:\n",
    "        break\n",
    "    cv2.imwrite(f'{save_path}/lie/frame{uuid.uuid1()}.jpg', frame)\n",
    "    count += 1"
   ]
  }
 ],
 "metadata": {
  "kernelspec": {
   "display_name": "Python 3 (ipykernel)",
   "language": "python",
   "name": "python3"
  },
  "language_info": {
   "codemirror_mode": {
    "name": "ipython",
    "version": 3
   },
   "file_extension": ".py",
   "mimetype": "text/x-python",
   "name": "python",
   "nbconvert_exporter": "python",
   "pygments_lexer": "ipython3",
   "version": "3.9.16"
  }
 },
 "nbformat": 4,
 "nbformat_minor": 5
}
